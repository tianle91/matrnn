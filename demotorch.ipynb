{
 "cells": [
  {
   "cell_type": "code",
   "execution_count": 1,
   "metadata": {},
   "outputs": [],
   "source": [
    "import numpy as np\n",
    "from math import ceil\n",
    "from typing import List, Tuple\n",
    "import matplotlib.pyplot as plt"
   ]
  },
  {
   "cell_type": "code",
   "execution_count": 2,
   "metadata": {},
   "outputs": [],
   "source": [
    "import torch\n",
    "import torch.nn as nn\n",
    "import torch.nn.functional as F\n",
    "import torch.optim as optim"
   ]
  },
  {
   "cell_type": "code",
   "execution_count": 3,
   "metadata": {},
   "outputs": [],
   "source": [
    "from tssparse import get_tsvalues, get_input_t\n",
    "from torchmodels import LSTMTSSparseToTTE"
   ]
  },
  {
   "cell_type": "code",
   "execution_count": 4,
   "metadata": {},
   "outputs": [],
   "source": [
    "# generate some arrival times with fixed intervals\n",
    "max_t = 10\n",
    "num_evtypes = 3\n",
    "iats_d = {k: k+1 for k in range(num_evtypes)}"
   ]
  },
  {
   "cell_type": "code",
   "execution_count": 5,
   "metadata": {},
   "outputs": [],
   "source": [
    "# actual data should look something like this\n",
    "arrivaltimes = [\n",
    "    [list(range(d, max_t, v)) for k, v in iats_d.items()]\n",
    "    for d in range(5)\n",
    "    for _ in range(10)\n",
    "]"
   ]
  },
  {
   "cell_type": "code",
   "execution_count": 6,
   "metadata": {},
   "outputs": [
    {
     "data": {
      "text/plain": [
       "[[0, 1, 2, 3, 4, 5, 6, 7, 8, 9], [0, 2, 4, 6, 8], [0, 3, 6, 9]]"
      ]
     },
     "execution_count": 6,
     "metadata": {},
     "output_type": "execute_result"
    }
   ],
   "source": [
    "# arrival times for 0-th replicate\n",
    "arrivaltimes[0]"
   ]
  },
  {
   "cell_type": "markdown",
   "metadata": {},
   "source": [
    "find normalization to estimate time-to-event"
   ]
  },
  {
   "cell_type": "code",
   "execution_count": 7,
   "metadata": {},
   "outputs": [],
   "source": [
    "mean_arrival_times = [[np.mean(np.diff(arrtype)) for arrtype in arrobs] for arrobs in arrivaltimes]\n",
    "event_type_normalization = list(np.mean(np.array(mean_arrival_times), axis=0))"
   ]
  },
  {
   "cell_type": "code",
   "execution_count": 8,
   "metadata": {},
   "outputs": [
    {
     "data": {
      "text/plain": [
       "[1.0, 2.0, 3.0]"
      ]
     },
     "execution_count": 8,
     "metadata": {},
     "output_type": "execute_result"
    }
   ],
   "source": [
    "event_type_normalization"
   ]
  },
  {
   "cell_type": "code",
   "execution_count": 9,
   "metadata": {},
   "outputs": [],
   "source": [
    "model = LSTMTSSparseToTTE(num_evtypes, max_t)\n",
    "optimizer = optim.SGD(model.parameters(), lr=1)"
   ]
  },
  {
   "cell_type": "code",
   "execution_count": 10,
   "metadata": {},
   "outputs": [],
   "source": [
    "def get_target(arrivaltimes, max_t):\n",
    "    return torch.cat([\n",
    "        torch.Tensor(\n",
    "            get_input_t(t, arrivaltimes, training=False)\n",
    "        )[\n",
    "            ..., [1] # tse\n",
    "        ].view(1, len(arrivaltimes), -1) \n",
    "        for t in range(max_t)\n",
    "    ])"
   ]
  },
  {
   "cell_type": "code",
   "execution_count": 11,
   "metadata": {},
   "outputs": [],
   "source": [
    "def get_loss(true, pred):\n",
    "    batch_size = true.shape[1]\n",
    "    norm = torch.Tensor(event_type_normalization).repeat(max_t, batch_size, 1)\n",
    "    return nn.MSELoss()(true/norm, F.relu(pred)/norm)"
   ]
  },
  {
   "cell_type": "code",
   "execution_count": 12,
   "metadata": {
    "scrolled": true
   },
   "outputs": [
    {
     "name": "stdout",
     "output_type": "stream",
     "text": [
      "epoch: 0 loss: 0.4027062654495239\n",
      "epoch: 1 loss: 0.39021825790405273\n",
      "epoch: 2 loss: 0.3957674205303192\n",
      "epoch: 3 loss: 0.39257141947746277\n",
      "epoch: 4 loss: 0.3913699686527252\n",
      "epoch: 5 loss: 0.3811717629432678\n",
      "epoch: 6 loss: 0.39564916491508484\n",
      "epoch: 7 loss: 0.36809736490249634\n",
      "epoch: 8 loss: 0.37844961881637573\n",
      "epoch: 9 loss: 0.3746276795864105\n",
      "epoch: 10 loss: 0.3782176077365875\n",
      "epoch: 11 loss: 0.3721534311771393\n",
      "epoch: 12 loss: 0.3716525733470917\n",
      "epoch: 13 loss: 0.3597373962402344\n",
      "epoch: 14 loss: 0.3573892414569855\n",
      "epoch: 15 loss: 0.35926172137260437\n",
      "epoch: 16 loss: 0.3576687276363373\n",
      "epoch: 17 loss: 0.3465019166469574\n",
      "epoch: 18 loss: 0.359171986579895\n",
      "epoch: 19 loss: 0.3679785132408142\n",
      "epoch: 20 loss: 0.3407660126686096\n",
      "epoch: 21 loss: 0.34228619933128357\n",
      "epoch: 22 loss: 0.34844303131103516\n",
      "epoch: 23 loss: 0.34651488065719604\n",
      "epoch: 24 loss: 0.3497084081172943\n",
      "epoch: 25 loss: 0.3403307795524597\n",
      "epoch: 26 loss: 0.32818180322647095\n",
      "epoch: 27 loss: 0.3328571915626526\n",
      "epoch: 28 loss: 0.3310260474681854\n",
      "epoch: 29 loss: 0.32908323407173157\n",
      "epoch: 30 loss: 0.3326451778411865\n",
      "epoch: 31 loss: 0.3264816701412201\n",
      "epoch: 32 loss: 0.324391633272171\n",
      "epoch: 33 loss: 0.3410665690898895\n",
      "epoch: 34 loss: 0.3173882067203522\n",
      "epoch: 35 loss: 0.3265322148799896\n",
      "epoch: 36 loss: 0.33705756068229675\n",
      "epoch: 37 loss: 0.3293374180793762\n",
      "epoch: 38 loss: 0.33036544919013977\n",
      "epoch: 39 loss: 0.3200370967388153\n",
      "epoch: 40 loss: 0.3276897370815277\n",
      "epoch: 41 loss: 0.3214588165283203\n",
      "epoch: 42 loss: 0.3329631984233856\n",
      "epoch: 43 loss: 0.3249674439430237\n",
      "epoch: 44 loss: 0.3109896183013916\n",
      "epoch: 45 loss: 0.32317429780960083\n",
      "epoch: 46 loss: 0.3189859390258789\n",
      "epoch: 47 loss: 0.32918795943260193\n",
      "epoch: 48 loss: 0.3113595247268677\n",
      "epoch: 49 loss: 0.3200865089893341\n",
      "epoch: 50 loss: 0.3214547038078308\n",
      "epoch: 51 loss: 0.31628936529159546\n",
      "epoch: 52 loss: 0.3067837357521057\n",
      "epoch: 53 loss: 0.3055354058742523\n",
      "epoch: 54 loss: 0.31508076190948486\n",
      "epoch: 55 loss: 0.30886736512184143\n",
      "epoch: 56 loss: 0.3082551956176758\n",
      "epoch: 57 loss: 0.2997734248638153\n",
      "epoch: 58 loss: 0.3051804006099701\n",
      "epoch: 59 loss: 0.30828291177749634\n",
      "epoch: 60 loss: 0.31838876008987427\n",
      "epoch: 61 loss: 0.30711257457733154\n",
      "epoch: 62 loss: 0.3142712712287903\n",
      "epoch: 63 loss: 0.3096843957901001\n",
      "epoch: 64 loss: 0.3103089928627014\n",
      "epoch: 65 loss: 0.3046463131904602\n",
      "epoch: 66 loss: 0.309273898601532\n",
      "epoch: 67 loss: 0.30242034792900085\n",
      "epoch: 68 loss: 0.3023372292518616\n",
      "epoch: 69 loss: 0.2985638976097107\n",
      "epoch: 70 loss: 0.30072903633117676\n",
      "epoch: 71 loss: 0.2987094819545746\n",
      "epoch: 72 loss: 0.30279541015625\n",
      "epoch: 73 loss: 0.29876384139060974\n",
      "epoch: 74 loss: 0.3064507246017456\n",
      "epoch: 75 loss: 0.3007824420928955\n",
      "epoch: 76 loss: 0.3018379211425781\n",
      "epoch: 77 loss: 0.30368784070014954\n",
      "epoch: 78 loss: 0.29794707894325256\n",
      "epoch: 79 loss: 0.29820743203163147\n",
      "epoch: 80 loss: 0.2990333139896393\n",
      "epoch: 81 loss: 0.29209810495376587\n",
      "epoch: 82 loss: 0.293803334236145\n",
      "epoch: 83 loss: 0.2957274913787842\n",
      "epoch: 84 loss: 0.29358696937561035\n",
      "epoch: 85 loss: 0.29670628905296326\n",
      "epoch: 86 loss: 0.2879803776741028\n",
      "epoch: 87 loss: 0.29040610790252686\n",
      "epoch: 88 loss: 0.2990715205669403\n",
      "epoch: 89 loss: 0.29471150040626526\n",
      "epoch: 90 loss: 0.29313924908638\n",
      "epoch: 91 loss: 0.2948634922504425\n",
      "epoch: 92 loss: 0.28549280762672424\n",
      "epoch: 93 loss: 0.28961464762687683\n",
      "epoch: 94 loss: 0.2909083664417267\n",
      "epoch: 95 loss: 0.28544169664382935\n",
      "epoch: 96 loss: 0.28914937376976013\n",
      "epoch: 97 loss: 0.28811168670654297\n",
      "epoch: 98 loss: 0.28731003403663635\n",
      "epoch: 99 loss: 0.29832011461257935\n"
     ]
    }
   ],
   "source": [
    "for epoch in range(100):\n",
    "    model.zero_grad()\n",
    "    batch_size = len(arrivaltimes)\n",
    "    \n",
    "    loss = get_loss(model(arrivaltimes), get_target(arrivaltimes, max_t))\n",
    "    loss.backward()\n",
    "    optimizer.step()\n",
    "    with torch.no_grad():\n",
    "        print ('epoch: {} loss: {}'.format(\n",
    "            epoch, \n",
    "            get_loss(model(arrivaltimes), get_target(arrivaltimes, max_t)).item()\n",
    "        ))"
   ]
  },
  {
   "cell_type": "code",
   "execution_count": 13,
   "metadata": {},
   "outputs": [],
   "source": [
    "import matplotlib.pyplot as plt"
   ]
  },
  {
   "cell_type": "code",
   "execution_count": 14,
   "metadata": {},
   "outputs": [],
   "source": [
    "with torch.no_grad():\n",
    "    pred = model(arrivaltimes).numpy()"
   ]
  },
  {
   "cell_type": "code",
   "execution_count": 15,
   "metadata": {},
   "outputs": [
    {
     "data": {
      "image/png": "[encoded data removed]",
      "text/plain": [
       "<Figure size 432x288 with 1 Axes>"
      ]
     },
     "metadata": {
      "needs_background": "light"
     },
     "output_type": "display_data"
    },
    {
     "data": {
      "image/png": "[encoded data removed]",
      "text/plain": [
       "<Figure size 432x288 with 1 Axes>"
      ]
     },
     "metadata": {
      "needs_background": "light"
     },
     "output_type": "display_data"
    },
    {
     "data": {
      "image/png": "[encoded data removed]",
      "text/plain": [
       "<Figure size 432x288 with 1 Axes>"
      ]
     },
     "metadata": {
      "needs_background": "light"
     },
     "output_type": "display_data"
    }
   ],
   "source": [
    "for i in range(num_evtypes):\n",
    "    plt.plot(pred[:, 0, i], label='pred')\n",
    "    plt.plot(get_target(arrivaltimes, max_t).numpy()[:, 0, i], label='target')\n",
    "    plt.title('event type {}'.format(i))\n",
    "    plt.legend()\n",
    "    plt.show()"
   ]
  }
 ],
 "metadata": {
  "kernelspec": {
   "display_name": "Python 3",
   "language": "python",
   "name": "python3"
  },
  "language_info": {
   "codemirror_mode": {
    "name": "ipython",
    "version": 3
   },
   "file_extension": ".py",
   "mimetype": "text/x-python",
   "name": "python",
   "nbconvert_exporter": "python",
   "pygments_lexer": "ipython3",
   "version": "3.7.4"
  }
 },
 "nbformat": 4,
 "nbformat_minor": 4
}
