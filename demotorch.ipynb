{
 "cells": [
  {
   "cell_type": "code",
   "execution_count": 1,
   "metadata": {},
   "outputs": [],
   "source": [
    "import numpy as np\n",
    "from math import ceil\n",
    "from typing import List, Tuple\n",
    "import matplotlib.pyplot as plt"
   ]
  },
  {
   "cell_type": "code",
   "execution_count": 2,
   "metadata": {},
   "outputs": [],
   "source": [
    "# generate some arrival times with fixed intervals\n",
    "max_t = 10\n",
    "num_obs = 5\n",
    "num_evtypes = 3\n",
    "iats_d = {k: k+1 for k in range(num_evtypes)}"
   ]
  },
  {
   "cell_type": "code",
   "execution_count": 3,
   "metadata": {},
   "outputs": [],
   "source": [
    "# actual data should look something like this\n",
    "arrivaltimes = [\n",
    "    [list(range(d, max_t, v)) for k, v in iats_d.items()]\n",
    "    for d in range(num_obs)\n",
    "]"
   ]
  },
  {
   "cell_type": "code",
   "execution_count": 4,
   "metadata": {},
   "outputs": [
    {
     "data": {
      "text/plain": [
       "[[0, 1, 2, 3, 4, 5, 6, 7, 8, 9], [0, 2, 4, 6, 8], [0, 3, 6, 9]]"
      ]
     },
     "execution_count": 4,
     "metadata": {},
     "output_type": "execute_result"
    }
   ],
   "source": [
    "# arrival times for 0-th replicate\n",
    "arrivaltimes[0]"
   ]
  },
  {
   "cell_type": "code",
   "execution_count": 5,
   "metadata": {},
   "outputs": [],
   "source": [
    "def get_tsvalues(t: int, arrivaltimes: List[int]) -> Tuple[int, int]:\n",
    "    '''return (time_since_event, time_to_event)'''\n",
    "    tse_candidates = [t-v for v in arrivaltimes if t >= v]\n",
    "    tte_candidates = [v-t for v in arrivaltimes if v > t]\n",
    "    return (\n",
    "        min(tse_candidates) if len(tse_candidates) > 0 else None, \n",
    "        min(tte_candidates) if len(tte_candidates) > 0 else None,\n",
    "    )\n",
    "\n",
    "def get_indicators(tse: int, tte: int) -> Tuple[int, int]:\n",
    "    '''return (tse is None, tte is None)'''\n",
    "    prefirst = tse is None\n",
    "    postlast = tte is None\n",
    "    return prefirst, postlast"
   ]
  },
  {
   "cell_type": "code",
   "execution_count": 6,
   "metadata": {},
   "outputs": [
    {
     "data": {
      "image/png": "[encoded data removed]",
      "text/plain": [
       "<Figure size 432x288 with 1 Axes>"
      ]
     },
     "metadata": {
      "needs_background": "light"
     },
     "output_type": "display_data"
    }
   ],
   "source": [
    "# demo of tse, tte\n",
    "arrt = arrivaltimes[0][2]\n",
    "tsvalues = [get_tsvalues(t, arrt) for t in range(max_t)]\n",
    "tse_l, tte_l = zip(*tsvalues)\n",
    "\n",
    "plt.plot(tse_l, label='tse')\n",
    "plt.plot(tte_l, label='tte')\n",
    "for t in arrt:\n",
    "    plt.axvline(t, ls=':', color='red')\n",
    "\n",
    "plt.legend()\n",
    "plt.show()"
   ]
  },
  {
   "cell_type": "code",
   "execution_count": 7,
   "metadata": {},
   "outputs": [],
   "source": [
    "import torch\n",
    "import torch.nn as nn\n",
    "import torch.nn.functional as F\n",
    "import torch.optim as optim"
   ]
  },
  {
   "cell_type": "code",
   "execution_count": 8,
   "metadata": {},
   "outputs": [],
   "source": [
    "def get_input_t(t: int, arrivaltimes: list, training: bool = False) -> list:\n",
    "    '''return nested list of shape (num_obs, num_evtypes, [tse, tte, prefirst, postlast]) \n",
    "    representing time series values at each time t for all observations and event types'''\n",
    "    # len(input_t) == num_obs\n",
    "    input_t = []\n",
    "    for arrt_obs in arrivaltimes:\n",
    "        # len(input_type) == num_evtypes\n",
    "        input_type = []\n",
    "        for arrt_type in arrt_obs:\n",
    "            tse, tte = get_tsvalues(t, arrt_type)\n",
    "            prefirst, postlast = get_indicators(tse, tte)\n",
    "            resl = [\n",
    "                # tse, tte, prefirst, postlast\n",
    "                -1 if prefirst else tse, \n",
    "                -1 if postlast else tte,\n",
    "                1 if prefirst else 0,\n",
    "                1 if postlast else 0,\n",
    "            ] if not training else [\n",
    "                # tse, prefirst\n",
    "                -1 if prefirst else tse, \n",
    "                1 if prefirst else 0,\n",
    "            ]\n",
    "            input_type.append(resl)\n",
    "        input_t.append(input_type)\n",
    "    return input_t"
   ]
  },
  {
   "cell_type": "code",
   "execution_count": 9,
   "metadata": {},
   "outputs": [
    {
     "name": "stdout",
     "output_type": "stream",
     "text": [
      "num_obs: 5, num_evtypes: 3, (tse, tte, prefirst, postlast): 4\n",
      "t: 0, shape: (5, 3, 4), input_t[0][2]: [0, 3, 0, 0]\n",
      "t: 1, shape: (5, 3, 4), input_t[0][2]: [1, 2, 0, 0]\n",
      "t: 2, shape: (5, 3, 4), input_t[0][2]: [2, 1, 0, 0]\n",
      "t: 3, shape: (5, 3, 4), input_t[0][2]: [0, 3, 0, 0]\n",
      "t: 4, shape: (5, 3, 4), input_t[0][2]: [1, 2, 0, 0]\n",
      "t: 5, shape: (5, 3, 4), input_t[0][2]: [2, 1, 0, 0]\n",
      "t: 6, shape: (5, 3, 4), input_t[0][2]: [0, 3, 0, 0]\n",
      "t: 7, shape: (5, 3, 4), input_t[0][2]: [1, 2, 0, 0]\n",
      "t: 8, shape: (5, 3, 4), input_t[0][2]: [2, 1, 0, 0]\n",
      "t: 9, shape: (5, 3, 4), input_t[0][2]: [0, -1, 0, 1]\n"
     ]
    }
   ],
   "source": [
    "print (\n",
    "    'num_obs: {}, num_evtypes: {}, (tse, tte, prefirst, postlast): {}'\\\n",
    "    .format(num_obs, num_evtypes, 4)\n",
    ")\n",
    "\n",
    "for t in range(max_t):\n",
    "    \n",
    "    input_t = get_input_t(t, arrivaltimes)\n",
    "    print ('t: {}, shape: {}, input_t[0][2]: {}'.format(t, np.array(input_t).shape, input_t[0][2]))"
   ]
  },
  {
   "cell_type": "code",
   "execution_count": 10,
   "metadata": {},
   "outputs": [
    {
     "name": "stdout",
     "output_type": "stream",
     "text": [
      "training...\n",
      "num_obs: 5, num_evtypes: 3, (tse, prefirst): 2\n",
      "t: 0, shape: (5, 3, 2), input_t[0][2]: [0, 0]\n",
      "t: 1, shape: (5, 3, 2), input_t[0][2]: [1, 0]\n",
      "t: 2, shape: (5, 3, 2), input_t[0][2]: [2, 0]\n",
      "t: 3, shape: (5, 3, 2), input_t[0][2]: [0, 0]\n",
      "t: 4, shape: (5, 3, 2), input_t[0][2]: [1, 0]\n",
      "t: 5, shape: (5, 3, 2), input_t[0][2]: [2, 0]\n",
      "t: 6, shape: (5, 3, 2), input_t[0][2]: [0, 0]\n",
      "t: 7, shape: (5, 3, 2), input_t[0][2]: [1, 0]\n",
      "t: 8, shape: (5, 3, 2), input_t[0][2]: [2, 0]\n",
      "t: 9, shape: (5, 3, 2), input_t[0][2]: [0, 0]\n"
     ]
    }
   ],
   "source": [
    "print (\n",
    "    'training...\\nnum_obs: {}, num_evtypes: {}, (tse, prefirst): {}'\\\n",
    "    .format(num_obs, num_evtypes, 2)\n",
    ")\n",
    "\n",
    "for t in range(max_t):\n",
    "    \n",
    "    input_t = get_input_t(t, arrivaltimes, training=True)\n",
    "    print ('t: {}, shape: {}, input_t[0][2]: {}'.format(t, np.array(input_t).shape, input_t[0][2]))"
   ]
  },
  {
   "cell_type": "code",
   "execution_count": 11,
   "metadata": {},
   "outputs": [],
   "source": [
    "class LSTMTSSparse(nn.Module):\n",
    "    \n",
    "    def __init__(self, num_evtypes, max_t):\n",
    "        super(LSTMTSSparse, self).__init__()\n",
    "        self.num_evtypes = num_evtypes\n",
    "        self.max_t = max_t\n",
    "        # input_size – The number of expected features in the input x\n",
    "        # hidden_size – The number of features in the hidden state h\n",
    "        # num_layers – Number of recurrent layers. Default: 1\n",
    "        # bidirectional – If True, becomes a bidirectional LSTM. Default: False\n",
    "        self.lstm = nn.LSTM(\n",
    "            input_size=num_evtypes*2, \n",
    "            hidden_size=num_evtypes, \n",
    "            num_layers=1, \n",
    "            bidirectional=False\n",
    "        )\n",
    "        \n",
    "    def forward(self, arrivaltimes: List[List[int]]):\n",
    "        num_obs = len(arrivaltimes)\n",
    "        # (seq_len, batch, input_size)\n",
    "        hidden = (\n",
    "            torch.randn(1, num_obs, self.num_evtypes), \n",
    "            torch.randn(1, num_obs, self.num_evtypes),\n",
    "        )\n",
    "        output_l = []\n",
    "        for t in range(self.max_t):\n",
    "            input_t = torch.Tensor(get_input_t(t, arrivaltimes, training=True)).view(1, num_obs, -1)\n",
    "            output_t, hidden = self.lstm(input_t, hidden)\n",
    "            output_l.append(output_t)\n",
    "        return torch.cat(output_l, dim=0)"
   ]
  },
  {
   "cell_type": "code",
   "execution_count": 12,
   "metadata": {},
   "outputs": [],
   "source": [
    "def get_target(arrivaltimes):\n",
    "    return torch.cat([\n",
    "        torch.Tensor(get_input_t(t, arrivaltimes, training=False))[\n",
    "            ...,[1]\n",
    "        ].view(1, num_obs, -1) \n",
    "        for t in range(max_t)\n",
    "    ])"
   ]
  },
  {
   "cell_type": "code",
   "execution_count": 13,
   "metadata": {},
   "outputs": [],
   "source": [
    "loss_function = nn.MSELoss()\n",
    "model = LSTMTSSparse(num_evtypes, max_t)\n",
    "optimizer = optim.SGD(model.parameters(), lr=0.1)"
   ]
  },
  {
   "cell_type": "code",
   "execution_count": 14,
   "metadata": {},
   "outputs": [
    {
     "name": "stdout",
     "output_type": "stream",
     "text": [
      "tensor(2.8652)\n"
     ]
    }
   ],
   "source": [
    "with torch.no_grad():\n",
    "    print (loss_function(model(arrivaltimes), get_target(arrivaltimes)))"
   ]
  },
  {
   "cell_type": "code",
   "execution_count": 32,
   "metadata": {
    "scrolled": true
   },
   "outputs": [
    {
     "name": "stdout",
     "output_type": "stream",
     "text": [
      "epoch: 0 loss: 1.7150421142578125\n",
      "epoch: 1 loss: 1.7129409313201904\n",
      "epoch: 2 loss: 1.724859595298767\n",
      "epoch: 3 loss: 1.8076456785202026\n",
      "epoch: 4 loss: 1.7160001993179321\n",
      "epoch: 5 loss: 1.7607781887054443\n",
      "epoch: 6 loss: 1.6963543891906738\n",
      "epoch: 7 loss: 1.7804781198501587\n",
      "epoch: 8 loss: 1.704046368598938\n",
      "epoch: 9 loss: 1.6950336694717407\n",
      "epoch: 10 loss: 1.6948128938674927\n",
      "epoch: 11 loss: 1.846975326538086\n",
      "epoch: 12 loss: 1.721432089805603\n",
      "epoch: 13 loss: 1.7482523918151855\n",
      "epoch: 14 loss: 1.7231123447418213\n",
      "epoch: 15 loss: 1.7418255805969238\n",
      "epoch: 16 loss: 1.7351875305175781\n",
      "epoch: 17 loss: 1.7635279893875122\n",
      "epoch: 18 loss: 1.653188943862915\n",
      "epoch: 19 loss: 1.7307289838790894\n",
      "epoch: 20 loss: 1.7073721885681152\n",
      "epoch: 21 loss: 1.7747750282287598\n",
      "epoch: 22 loss: 1.8503613471984863\n",
      "epoch: 23 loss: 1.756513237953186\n",
      "epoch: 24 loss: 1.7231870889663696\n",
      "epoch: 25 loss: 1.6648399829864502\n",
      "epoch: 26 loss: 1.688806414604187\n",
      "epoch: 27 loss: 1.7971781492233276\n",
      "epoch: 28 loss: 1.66493558883667\n",
      "epoch: 29 loss: 1.6642203330993652\n",
      "epoch: 30 loss: 1.6394840478897095\n",
      "epoch: 31 loss: 1.7208807468414307\n",
      "epoch: 32 loss: 1.7095422744750977\n",
      "epoch: 33 loss: 1.744813084602356\n",
      "epoch: 34 loss: 1.664190411567688\n",
      "epoch: 35 loss: 1.7221415042877197\n",
      "epoch: 36 loss: 1.709849238395691\n",
      "epoch: 37 loss: 1.7658820152282715\n",
      "epoch: 38 loss: 1.664864420890808\n",
      "epoch: 39 loss: 1.6715164184570312\n",
      "epoch: 40 loss: 1.6559008359909058\n",
      "epoch: 41 loss: 1.7527108192443848\n",
      "epoch: 42 loss: 1.7150346040725708\n",
      "epoch: 43 loss: 1.679620623588562\n",
      "epoch: 44 loss: 1.7029756307601929\n",
      "epoch: 45 loss: 1.6987297534942627\n",
      "epoch: 46 loss: 1.6869773864746094\n",
      "epoch: 47 loss: 1.7079769372940063\n",
      "epoch: 48 loss: 1.7531485557556152\n",
      "epoch: 49 loss: 1.619257926940918\n",
      "epoch: 50 loss: 1.7055118083953857\n",
      "epoch: 51 loss: 1.6441688537597656\n",
      "epoch: 52 loss: 1.739067792892456\n",
      "epoch: 53 loss: 1.7081586122512817\n",
      "epoch: 54 loss: 1.767704725265503\n",
      "epoch: 55 loss: 1.6952344179153442\n",
      "epoch: 56 loss: 1.6869620084762573\n",
      "epoch: 57 loss: 1.617086410522461\n",
      "epoch: 58 loss: 1.6718968152999878\n",
      "epoch: 59 loss: 1.6348949670791626\n",
      "epoch: 60 loss: 1.7010893821716309\n",
      "epoch: 61 loss: 1.7311344146728516\n",
      "epoch: 62 loss: 1.6511703729629517\n",
      "epoch: 63 loss: 1.6803455352783203\n",
      "epoch: 64 loss: 1.7345774173736572\n",
      "epoch: 65 loss: 1.6927061080932617\n",
      "epoch: 66 loss: 1.6780985593795776\n",
      "epoch: 67 loss: 1.6760473251342773\n",
      "epoch: 68 loss: 1.7035176753997803\n",
      "epoch: 69 loss: 1.6882609128952026\n",
      "epoch: 70 loss: 1.6715106964111328\n",
      "epoch: 71 loss: 1.6515835523605347\n",
      "epoch: 72 loss: 1.6551470756530762\n",
      "epoch: 73 loss: 1.6135146617889404\n",
      "epoch: 74 loss: 1.6047075986862183\n",
      "epoch: 75 loss: 1.7520864009857178\n",
      "epoch: 76 loss: 1.6931930780410767\n",
      "epoch: 77 loss: 1.7580220699310303\n",
      "epoch: 78 loss: 1.6233149766921997\n",
      "epoch: 79 loss: 1.707269549369812\n",
      "epoch: 80 loss: 1.7676422595977783\n",
      "epoch: 81 loss: 1.6704493761062622\n",
      "epoch: 82 loss: 1.6361759901046753\n",
      "epoch: 83 loss: 1.6906404495239258\n",
      "epoch: 84 loss: 1.686387538909912\n",
      "epoch: 85 loss: 1.6992825269699097\n",
      "epoch: 86 loss: 1.6831413507461548\n",
      "epoch: 87 loss: 1.5964720249176025\n",
      "epoch: 88 loss: 1.6083226203918457\n",
      "epoch: 89 loss: 1.7282052040100098\n",
      "epoch: 90 loss: 1.7410833835601807\n",
      "epoch: 91 loss: 1.7038170099258423\n",
      "epoch: 92 loss: 1.6928107738494873\n",
      "epoch: 93 loss: 1.6328163146972656\n",
      "epoch: 94 loss: 1.6649237871170044\n",
      "epoch: 95 loss: 1.7268619537353516\n",
      "epoch: 96 loss: 1.6454001665115356\n",
      "epoch: 97 loss: 1.591497778892517\n",
      "epoch: 98 loss: 1.6840124130249023\n",
      "epoch: 99 loss: 1.674583911895752\n"
     ]
    }
   ],
   "source": [
    "for epoch in range(100):\n",
    "    model.zero_grad()\n",
    "    loss = loss_function(model(arrivaltimes), get_target(arrivaltimes))\n",
    "    loss.backward()\n",
    "    optimizer.step()\n",
    "    with torch.no_grad():\n",
    "        print ('epoch: {} loss: {}'.format(\n",
    "            epoch, loss_function(model(arrivaltimes), get_target(arrivaltimes)).item()\n",
    "        ))"
   ]
  },
  {
   "cell_type": "code",
   "execution_count": 33,
   "metadata": {},
   "outputs": [
    {
     "name": "stdout",
     "output_type": "stream",
     "text": [
      "tensor(1.6573)\n"
     ]
    }
   ],
   "source": [
    "with torch.no_grad():\n",
    "    print (loss_function(model(arrivaltimes), get_target(arrivaltimes)))"
   ]
  },
  {
   "cell_type": "code",
   "execution_count": 34,
   "metadata": {},
   "outputs": [],
   "source": [
    "import matplotlib.pyplot as plt"
   ]
  },
  {
   "cell_type": "code",
   "execution_count": 35,
   "metadata": {},
   "outputs": [],
   "source": [
    "with torch.no_grad():\n",
    "    pred = model(arrivaltimes).numpy()"
   ]
  },
  {
   "cell_type": "code",
   "execution_count": 36,
   "metadata": {},
   "outputs": [
    {
     "data": {
      "text/plain": [
       "(10, 5, 3)"
      ]
     },
     "execution_count": 36,
     "metadata": {},
     "output_type": "execute_result"
    }
   ],
   "source": [
    "pred.shape"
   ]
  },
  {
   "cell_type": "code",
   "execution_count": 37,
   "metadata": {},
   "outputs": [
    {
     "data": {
      "text/plain": [
       "[<matplotlib.lines.Line2D at 0x7fd0a17873d0>]"
      ]
     },
     "execution_count": 37,
     "metadata": {},
     "output_type": "execute_result"
    },
    {
     "data": {
      "image/png": "[encoded data removed]",
      "text/plain": [
       "<Figure size 432x288 with 1 Axes>"
      ]
     },
     "metadata": {
      "needs_background": "light"
     },
     "output_type": "display_data"
    }
   ],
   "source": [
    "plt.plot(pred[:, 0, 2])"
   ]
  },
  {
   "cell_type": "code",
   "execution_count": 38,
   "metadata": {},
   "outputs": [
    {
     "data": {
      "text/plain": [
       "[<matplotlib.lines.Line2D at 0x7fd0a1a39310>]"
      ]
     },
     "execution_count": 38,
     "metadata": {},
     "output_type": "execute_result"
    },
    {
     "data": {
      "image/png": "[encoded data removed]",
      "text/plain": [
       "<Figure size 432x288 with 1 Axes>"
      ]
     },
     "metadata": {
      "needs_background": "light"
     },
     "output_type": "display_data"
    }
   ],
   "source": [
    "plt.plot(get_target(arrivaltimes).numpy()[:, 0, 2])"
   ]
  }
 ],
 "metadata": {
  "kernelspec": {
   "display_name": "Python 3",
   "language": "python",
   "name": "python3"
  },
  "language_info": {
   "codemirror_mode": {
    "name": "ipython",
    "version": 3
   },
   "file_extension": ".py",
   "mimetype": "text/x-python",
   "name": "python",
   "nbconvert_exporter": "python",
   "pygments_lexer": "ipython3",
   "version": "3.7.4"
  }
 },
 "nbformat": 4,
 "nbformat_minor": 4
}
