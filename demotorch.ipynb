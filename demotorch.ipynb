{
 "cells": [
  {
   "cell_type": "code",
   "execution_count": 1,
   "metadata": {},
   "outputs": [],
   "source": [
    "import numpy as np\n",
    "from math import ceil\n",
    "from typing import List, Tuple\n",
    "import matplotlib.pyplot as plt"
   ]
  },
  {
   "cell_type": "code",
   "execution_count": 2,
   "metadata": {},
   "outputs": [],
   "source": [
    "import torch\n",
    "import torch.nn as nn\n",
    "import torch.nn.functional as F\n",
    "import torch.optim as optim"
   ]
  },
  {
   "cell_type": "code",
   "execution_count": 3,
   "metadata": {},
   "outputs": [],
   "source": [
    "from tssparse import get_tsvalues, get_input_t\n",
    "from torchmodels import LSTMTSSparseToTTE"
   ]
  },
  {
   "cell_type": "code",
   "execution_count": 4,
   "metadata": {},
   "outputs": [],
   "source": [
    "# generate some arrival times with fixed intervals\n",
    "max_t = 10\n",
    "num_evtypes = 3\n",
    "iats_d = {k: k+1 for k in range(num_evtypes)}"
   ]
  },
  {
   "cell_type": "code",
   "execution_count": 5,
   "metadata": {},
   "outputs": [],
   "source": [
    "# actual data should look something like this\n",
    "arrivaltimes = [\n",
    "    [list(range(d, max_t, v)) for k, v in iats_d.items()]\n",
    "    for d in range(5)\n",
    "    for _ in range(10)\n",
    "]"
   ]
  },
  {
   "cell_type": "code",
   "execution_count": 6,
   "metadata": {},
   "outputs": [
    {
     "data": {
      "text/plain": [
       "[[0, 1, 2, 3, 4, 5, 6, 7, 8, 9], [0, 2, 4, 6, 8], [0, 3, 6, 9]]"
      ]
     },
     "execution_count": 6,
     "metadata": {},
     "output_type": "execute_result"
    }
   ],
   "source": [
    "# arrival times for 0-th replicate\n",
    "arrivaltimes[0]"
   ]
  },
  {
   "cell_type": "code",
   "execution_count": 7,
   "metadata": {},
   "outputs": [],
   "source": [
    "loss_function = nn.MSELoss()\n",
    "model = LSTMTSSparseToTTE(num_evtypes, max_t)\n",
    "optimizer = optim.SGD(model.parameters(), lr=1)"
   ]
  },
  {
   "cell_type": "code",
   "execution_count": 8,
   "metadata": {},
   "outputs": [],
   "source": [
    "def get_target(arrivaltimes, max_t):\n",
    "    return torch.cat([\n",
    "        torch.Tensor(\n",
    "            get_input_t(t, arrivaltimes, training=False)\n",
    "        )[\n",
    "            ..., [1] # tse\n",
    "        ].view(1, len(arrivaltimes), -1) \n",
    "        for t in range(max_t)\n",
    "    ])"
   ]
  },
  {
   "cell_type": "code",
   "execution_count": 9,
   "metadata": {
    "scrolled": true
   },
   "outputs": [
    {
     "name": "stdout",
     "output_type": "stream",
     "text": [
      "epoch: 0 loss: 1.5766208171844482\n",
      "epoch: 1 loss: 1.5632474422454834\n",
      "epoch: 2 loss: 1.563510775566101\n",
      "epoch: 3 loss: 1.5493534803390503\n",
      "epoch: 4 loss: 1.548848032951355\n",
      "epoch: 5 loss: 1.5460315942764282\n",
      "epoch: 6 loss: 1.5348341464996338\n",
      "epoch: 7 loss: 1.5479893684387207\n",
      "epoch: 8 loss: 1.5155301094055176\n",
      "epoch: 9 loss: 1.5153030157089233\n",
      "epoch: 10 loss: 1.507109522819519\n",
      "epoch: 11 loss: 1.5048314332962036\n",
      "epoch: 12 loss: 1.4926522970199585\n",
      "epoch: 13 loss: 1.5003689527511597\n",
      "epoch: 14 loss: 1.4886854887008667\n",
      "epoch: 15 loss: 1.4963390827178955\n",
      "epoch: 16 loss: 1.4842122793197632\n",
      "epoch: 17 loss: 1.4830766916275024\n",
      "epoch: 18 loss: 1.4591808319091797\n",
      "epoch: 19 loss: 1.460942268371582\n",
      "epoch: 20 loss: 1.4542183876037598\n",
      "epoch: 21 loss: 1.4437068700790405\n",
      "epoch: 22 loss: 1.459079623222351\n",
      "epoch: 23 loss: 1.4382505416870117\n",
      "epoch: 24 loss: 1.4475611448287964\n",
      "epoch: 25 loss: 1.42747962474823\n",
      "epoch: 26 loss: 1.424939751625061\n",
      "epoch: 27 loss: 1.4204779863357544\n",
      "epoch: 28 loss: 1.4175611734390259\n",
      "epoch: 29 loss: 1.4130605459213257\n",
      "epoch: 30 loss: 1.4047985076904297\n",
      "epoch: 31 loss: 1.4003407955169678\n",
      "epoch: 32 loss: 1.401589035987854\n",
      "epoch: 33 loss: 1.405136227607727\n",
      "epoch: 34 loss: 1.3915406465530396\n",
      "epoch: 35 loss: 1.3979134559631348\n",
      "epoch: 36 loss: 1.3906469345092773\n",
      "epoch: 37 loss: 1.3831270933151245\n",
      "epoch: 38 loss: 1.3852535486221313\n",
      "epoch: 39 loss: 1.384416937828064\n",
      "epoch: 40 loss: 1.393209457397461\n",
      "epoch: 41 loss: 1.3835391998291016\n",
      "epoch: 42 loss: 1.387868046760559\n",
      "epoch: 43 loss: 1.3880592584609985\n",
      "epoch: 44 loss: 1.374277949333191\n",
      "epoch: 45 loss: 1.3753942251205444\n",
      "epoch: 46 loss: 1.3726005554199219\n",
      "epoch: 47 loss: 1.3814475536346436\n",
      "epoch: 48 loss: 1.3690407276153564\n",
      "epoch: 49 loss: 1.3706852197647095\n",
      "epoch: 50 loss: 1.375124216079712\n",
      "epoch: 51 loss: 1.3594903945922852\n",
      "epoch: 52 loss: 1.368060827255249\n",
      "epoch: 53 loss: 1.3619437217712402\n",
      "epoch: 54 loss: 1.3673689365386963\n",
      "epoch: 55 loss: 1.3650442361831665\n",
      "epoch: 56 loss: 1.3494789600372314\n",
      "epoch: 57 loss: 1.363364338874817\n",
      "epoch: 58 loss: 1.356320858001709\n",
      "epoch: 59 loss: 1.354066252708435\n",
      "epoch: 60 loss: 1.3510253429412842\n",
      "epoch: 61 loss: 1.3506882190704346\n",
      "epoch: 62 loss: 1.352659821510315\n",
      "epoch: 63 loss: 1.356391429901123\n",
      "epoch: 64 loss: 1.3489984273910522\n",
      "epoch: 65 loss: 1.3448251485824585\n",
      "epoch: 66 loss: 1.342717170715332\n",
      "epoch: 67 loss: 1.3576761484146118\n",
      "epoch: 68 loss: 1.33853280544281\n",
      "epoch: 69 loss: 1.3445645570755005\n",
      "epoch: 70 loss: 1.3401049375534058\n",
      "epoch: 71 loss: 1.3501588106155396\n",
      "epoch: 72 loss: 1.342943549156189\n",
      "epoch: 73 loss: 1.3341374397277832\n",
      "epoch: 74 loss: 1.3519318103790283\n",
      "epoch: 75 loss: 1.3383939266204834\n",
      "epoch: 76 loss: 1.3435767889022827\n",
      "epoch: 77 loss: 1.3340038061141968\n",
      "epoch: 78 loss: 1.331263780593872\n",
      "epoch: 79 loss: 1.3305213451385498\n",
      "epoch: 80 loss: 1.3324036598205566\n",
      "epoch: 81 loss: 1.3374916315078735\n",
      "epoch: 82 loss: 1.331249475479126\n",
      "epoch: 83 loss: 1.3320692777633667\n",
      "epoch: 84 loss: 1.3366934061050415\n",
      "epoch: 85 loss: 1.323384165763855\n",
      "epoch: 86 loss: 1.3317341804504395\n",
      "epoch: 87 loss: 1.3293911218643188\n",
      "epoch: 88 loss: 1.3383405208587646\n",
      "epoch: 89 loss: 1.327566146850586\n",
      "epoch: 90 loss: 1.3257496356964111\n",
      "epoch: 91 loss: 1.3275060653686523\n",
      "epoch: 92 loss: 1.32333242893219\n",
      "epoch: 93 loss: 1.3230985403060913\n",
      "epoch: 94 loss: 1.3210519552230835\n",
      "epoch: 95 loss: 1.3174304962158203\n",
      "epoch: 96 loss: 1.325423002243042\n",
      "epoch: 97 loss: 1.3239033222198486\n",
      "epoch: 98 loss: 1.3204829692840576\n",
      "epoch: 99 loss: 1.3208130598068237\n"
     ]
    }
   ],
   "source": [
    "for epoch in range(100):\n",
    "    model.zero_grad()\n",
    "    loss = loss_function(model(arrivaltimes), get_target(arrivaltimes, max_t))\n",
    "    loss.backward()\n",
    "    optimizer.step()\n",
    "    with torch.no_grad():\n",
    "        print ('epoch: {} loss: {}'.format(\n",
    "            epoch, loss_function(model(arrivaltimes), get_target(arrivaltimes, max_t)).item()\n",
    "        ))"
   ]
  },
  {
   "cell_type": "code",
   "execution_count": 10,
   "metadata": {},
   "outputs": [],
   "source": [
    "import matplotlib.pyplot as plt"
   ]
  },
  {
   "cell_type": "code",
   "execution_count": 11,
   "metadata": {},
   "outputs": [],
   "source": [
    "with torch.no_grad():\n",
    "    pred = model(arrivaltimes).numpy()"
   ]
  },
  {
   "cell_type": "code",
   "execution_count": 13,
   "metadata": {},
   "outputs": [
    {
     "data": {
      "image/png": "[encoded data removed]",
      "text/plain": [
       "<Figure size 432x288 with 1 Axes>"
      ]
     },
     "metadata": {
      "needs_background": "light"
     },
     "output_type": "display_data"
    },
    {
     "data": {
      "image/png": "[encoded data removed]",
      "text/plain": [
       "<Figure size 432x288 with 1 Axes>"
      ]
     },
     "metadata": {
      "needs_background": "light"
     },
     "output_type": "display_data"
    },
    {
     "data": {
      "image/png": "[encoded data removed]",
      "text/plain": [
       "<Figure size 432x288 with 1 Axes>"
      ]
     },
     "metadata": {
      "needs_background": "light"
     },
     "output_type": "display_data"
    }
   ],
   "source": [
    "for i in range(num_evtypes):\n",
    "    plt.plot(pred[:, 0, i], label='pred')\n",
    "    plt.plot(get_target(arrivaltimes, max_t).numpy()[:, 0, i], label='target')\n",
    "    plt.title('event type {}'.format(i))\n",
    "    plt.legend()\n",
    "    plt.show()"
   ]
  }
 ],
 "metadata": {
  "kernelspec": {
   "display_name": "Python 3",
   "language": "python",
   "name": "python3"
  },
  "language_info": {
   "codemirror_mode": {
    "name": "ipython",
    "version": 3
   },
   "file_extension": ".py",
   "mimetype": "text/x-python",
   "name": "python",
   "nbconvert_exporter": "python",
   "pygments_lexer": "ipython3",
   "version": "3.7.4"
  }
 },
 "nbformat": 4,
 "nbformat_minor": 4
}
