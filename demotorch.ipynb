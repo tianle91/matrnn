{
 "cells": [
  {
   "cell_type": "code",
   "execution_count": 1,
   "metadata": {},
   "outputs": [],
   "source": [
    "import numpy as np\n",
    "from math import ceil\n",
    "from typing import List, Tuple\n",
    "import matplotlib.pyplot as plt"
   ]
  },
  {
   "cell_type": "code",
   "execution_count": 2,
   "metadata": {},
   "outputs": [],
   "source": [
    "# generate some arrival times with fixed intervals\n",
    "max_t = 10\n",
    "num_obs = 5\n",
    "num_evtypes = 3\n",
    "iats_d = {k: k+1 for k in range(num_evtypes)}"
   ]
  },
  {
   "cell_type": "code",
   "execution_count": 3,
   "metadata": {},
   "outputs": [],
   "source": [
    "# actual data should look something like this\n",
    "arrivaltimes = [\n",
    "    [list(range(d, max_t, v)) for k, v in iats_d.items()]\n",
    "    for d in range(num_obs)\n",
    "]"
   ]
  },
  {
   "cell_type": "code",
   "execution_count": 4,
   "metadata": {},
   "outputs": [
    {
     "data": {
      "text/plain": [
       "[[0, 1, 2, 3, 4, 5, 6, 7, 8, 9], [0, 2, 4, 6, 8], [0, 3, 6, 9]]"
      ]
     },
     "execution_count": 4,
     "metadata": {},
     "output_type": "execute_result"
    }
   ],
   "source": [
    "# arrival times for 0-th replicate\n",
    "arrivaltimes[0]"
   ]
  },
  {
   "cell_type": "code",
   "execution_count": 5,
   "metadata": {},
   "outputs": [],
   "source": [
    "def get_tsvalues(t: int, arrivaltimes: List[int]) -> Tuple[int, int]:\n",
    "    '''return (time_since_event, time_to_event)'''\n",
    "    tse_candidates = [t-v for v in arrivaltimes if t >= v]\n",
    "    tte_candidates = [v-t for v in arrivaltimes if v > t]\n",
    "    return (\n",
    "        min(tse_candidates) if len(tse_candidates) > 0 else None, \n",
    "        min(tte_candidates) if len(tte_candidates) > 0 else None,\n",
    "    )\n",
    "\n",
    "def get_indicators(tse: int, tte: int) -> Tuple[int, int]:\n",
    "    '''return (tse is None, tte is None)'''\n",
    "    prefirst = tse is None\n",
    "    postlast = tte is None\n",
    "    return prefirst, postlast"
   ]
  },
  {
   "cell_type": "code",
   "execution_count": 6,
   "metadata": {},
   "outputs": [
    {
     "data": {
      "image/png": "[encoded data removed]",
      "text/plain": [
       "<Figure size 432x288 with 1 Axes>"
      ]
     },
     "metadata": {
      "needs_background": "light"
     },
     "output_type": "display_data"
    }
   ],
   "source": [
    "# demo of tse, tte\n",
    "arrt = arrivaltimes[0][2]\n",
    "tsvalues = [get_tsvalues(t, arrt) for t in range(max_t)]\n",
    "tse_l, tte_l = zip(*tsvalues)\n",
    "\n",
    "plt.plot(tse_l, label='tse')\n",
    "plt.plot(tte_l, label='tte')\n",
    "for t in arrt:\n",
    "    plt.axvline(t, ls=':', color='red')\n",
    "\n",
    "plt.legend()\n",
    "plt.show()"
   ]
  },
  {
   "cell_type": "code",
   "execution_count": 7,
   "metadata": {},
   "outputs": [],
   "source": [
    "import torch\n",
    "import torch.nn as nn\n",
    "import torch.nn.functional as F\n",
    "import torch.optim as optim"
   ]
  },
  {
   "cell_type": "code",
   "execution_count": 8,
   "metadata": {},
   "outputs": [],
   "source": [
    "def get_input_t(t: int, arrivaltimes: list, training: bool = False) -> list:\n",
    "    '''return nested list of shape (num_obs, num_evtypes, [tse, tte, prefirst, postlast]) \n",
    "    representing time series values at each time t for all observations and event types'''\n",
    "    # len(input_t) == num_obs\n",
    "    input_t = []\n",
    "    for arrt_obs in arrivaltimes:\n",
    "        # len(input_type) == num_evtypes\n",
    "        input_type = []\n",
    "        for arrt_type in arrt_obs:\n",
    "            tse, tte = get_tsvalues(t, arrt_type)\n",
    "            prefirst, postlast = get_indicators(tse, tte)\n",
    "            resl = [\n",
    "                # tse, tte, prefirst, postlast\n",
    "                -1 if prefirst else tse, \n",
    "                -1 if postlast else tte,\n",
    "                1 if prefirst else 0,\n",
    "                1 if postlast else 0,\n",
    "            ] if not training else [\n",
    "                # tse, prefirst\n",
    "                -1 if prefirst else tse, \n",
    "                1 if prefirst else 0,\n",
    "            ]\n",
    "            input_type.append(resl)\n",
    "        input_t.append(input_type)\n",
    "    return input_t"
   ]
  },
  {
   "cell_type": "code",
   "execution_count": 9,
   "metadata": {},
   "outputs": [
    {
     "name": "stdout",
     "output_type": "stream",
     "text": [
      "num_obs: 5, num_evtypes: 3, (tse, tte, prefirst, postlast): 4\n",
      "t: 0, shape: (5, 3, 4), input_t[0][2]: [0, 3, 0, 0]\n",
      "t: 1, shape: (5, 3, 4), input_t[0][2]: [1, 2, 0, 0]\n",
      "t: 2, shape: (5, 3, 4), input_t[0][2]: [2, 1, 0, 0]\n",
      "t: 3, shape: (5, 3, 4), input_t[0][2]: [0, 3, 0, 0]\n",
      "t: 4, shape: (5, 3, 4), input_t[0][2]: [1, 2, 0, 0]\n",
      "t: 5, shape: (5, 3, 4), input_t[0][2]: [2, 1, 0, 0]\n",
      "t: 6, shape: (5, 3, 4), input_t[0][2]: [0, 3, 0, 0]\n",
      "t: 7, shape: (5, 3, 4), input_t[0][2]: [1, 2, 0, 0]\n",
      "t: 8, shape: (5, 3, 4), input_t[0][2]: [2, 1, 0, 0]\n",
      "t: 9, shape: (5, 3, 4), input_t[0][2]: [0, -1, 0, 1]\n"
     ]
    }
   ],
   "source": [
    "print (\n",
    "    'num_obs: {}, num_evtypes: {}, (tse, tte, prefirst, postlast): {}'\\\n",
    "    .format(num_obs, num_evtypes, 4)\n",
    ")\n",
    "\n",
    "for t in range(max_t):\n",
    "    \n",
    "    input_t = get_input_t(t, arrivaltimes)\n",
    "    print ('t: {}, shape: {}, input_t[0][2]: {}'.format(t, np.array(input_t).shape, input_t[0][2]))"
   ]
  },
  {
   "cell_type": "code",
   "execution_count": 10,
   "metadata": {},
   "outputs": [
    {
     "name": "stdout",
     "output_type": "stream",
     "text": [
      "training...\n",
      "num_obs: 5, num_evtypes: 3, (tse, prefirst): 2\n",
      "t: 0, shape: (5, 3, 2), input_t[0][2]: [0, 0]\n",
      "t: 1, shape: (5, 3, 2), input_t[0][2]: [1, 0]\n",
      "t: 2, shape: (5, 3, 2), input_t[0][2]: [2, 0]\n",
      "t: 3, shape: (5, 3, 2), input_t[0][2]: [0, 0]\n",
      "t: 4, shape: (5, 3, 2), input_t[0][2]: [1, 0]\n",
      "t: 5, shape: (5, 3, 2), input_t[0][2]: [2, 0]\n",
      "t: 6, shape: (5, 3, 2), input_t[0][2]: [0, 0]\n",
      "t: 7, shape: (5, 3, 2), input_t[0][2]: [1, 0]\n",
      "t: 8, shape: (5, 3, 2), input_t[0][2]: [2, 0]\n",
      "t: 9, shape: (5, 3, 2), input_t[0][2]: [0, 0]\n"
     ]
    }
   ],
   "source": [
    "print (\n",
    "    'training...\\nnum_obs: {}, num_evtypes: {}, (tse, prefirst): {}'\\\n",
    "    .format(num_obs, num_evtypes, 2)\n",
    ")\n",
    "\n",
    "for t in range(max_t):\n",
    "    \n",
    "    input_t = get_input_t(t, arrivaltimes, training=True)\n",
    "    print ('t: {}, shape: {}, input_t[0][2]: {}'.format(t, np.array(input_t).shape, input_t[0][2]))"
   ]
  },
  {
   "cell_type": "code",
   "execution_count": 11,
   "metadata": {},
   "outputs": [],
   "source": [
    "class LSTMTSSparse(nn.Module):\n",
    "    \n",
    "    def __init__(self, num_evtypes, max_t):\n",
    "        super(LSTMTSSparse, self).__init__()\n",
    "        self.num_evtypes = num_evtypes\n",
    "        self.max_t = max_t\n",
    "        # input_size – The number of expected features in the input x\n",
    "        # hidden_size – The number of features in the hidden state h\n",
    "        # num_layers – Number of recurrent layers. Default: 1\n",
    "        # bidirectional – If True, becomes a bidirectional LSTM. Default: False\n",
    "        self.lstm = nn.LSTM(\n",
    "            input_size=num_evtypes*2, \n",
    "            hidden_size=num_evtypes, \n",
    "            num_layers=1, \n",
    "            bidirectional=False\n",
    "        )\n",
    "        \n",
    "    def forward(self, arrivaltimes: List[List[int]]):\n",
    "        num_obs = len(arrivaltimes)\n",
    "        # (seq_len, batch, input_size)\n",
    "        hidden = (\n",
    "            torch.randn(1*1, num_obs, self.num_evtypes), \n",
    "            torch.randn(1*1, num_obs, self.num_evtypes),\n",
    "        )\n",
    "        output_l = []\n",
    "        for t in range(self.max_t):\n",
    "            input_t = torch.Tensor(get_input_t(t, arrivaltimes, training=True)).view(1, num_obs, -1)\n",
    "            output_t, hidden = self.lstm(input_t, hidden)\n",
    "            output_l.append(output_t)\n",
    "        return torch.cat(output_l, dim=0)"
   ]
  },
  {
   "cell_type": "code",
   "execution_count": 12,
   "metadata": {},
   "outputs": [],
   "source": [
    "def get_target(arrivaltimes):\n",
    "    return torch.cat([\n",
    "        torch.Tensor(get_input_t(t, arrivaltimes, training=False))[\n",
    "            ...,[1]\n",
    "        ].view(1, num_obs, -1) \n",
    "        for t in range(max_t)\n",
    "    ])"
   ]
  },
  {
   "cell_type": "code",
   "execution_count": 13,
   "metadata": {},
   "outputs": [],
   "source": [
    "loss_function = nn.MSELoss()\n",
    "model = LSTMTSSparse(num_evtypes, max_t)\n",
    "optimizer = optim.SGD(model.parameters(), lr=0.1)"
   ]
  },
  {
   "cell_type": "code",
   "execution_count": 14,
   "metadata": {},
   "outputs": [
    {
     "name": "stdout",
     "output_type": "stream",
     "text": [
      "tensor(2.4707)\n"
     ]
    }
   ],
   "source": [
    "with torch.no_grad():\n",
    "    print (loss_function(model(arrivaltimes), get_target(arrivaltimes)))"
   ]
  },
  {
   "cell_type": "code",
   "execution_count": 15,
   "metadata": {},
   "outputs": [
    {
     "name": "stdout",
     "output_type": "stream",
     "text": [
      "0 tensor(2.4268, grad_fn=<MseLossBackward>)\n",
      "1 tensor(2.4447, grad_fn=<MseLossBackward>)\n",
      "2 tensor(2.3734, grad_fn=<MseLossBackward>)\n",
      "3 tensor(2.3856, grad_fn=<MseLossBackward>)\n",
      "4 tensor(2.4201, grad_fn=<MseLossBackward>)\n"
     ]
    }
   ],
   "source": [
    "for epoch in range(5):  # again, normally you would NOT do 300 epochs, it is toy data\n",
    "    model.zero_grad()\n",
    "    loss = loss_function(model(arrivaltimes), get_target(arrivaltimes))\n",
    "    loss.backward()\n",
    "    optimizer.step()\n",
    "    print (epoch, loss)"
   ]
  },
  {
   "cell_type": "code",
   "execution_count": 16,
   "metadata": {},
   "outputs": [
    {
     "name": "stdout",
     "output_type": "stream",
     "text": [
      "tensor(2.2708)\n"
     ]
    }
   ],
   "source": [
    "with torch.no_grad():\n",
    "    print (loss_function(model(arrivaltimes), get_target(arrivaltimes)))"
   ]
  }
 ],
 "metadata": {
  "kernelspec": {
   "display_name": "Python 3",
   "language": "python",
   "name": "python3"
  },
  "language_info": {
   "codemirror_mode": {
    "name": "ipython",
    "version": 3
   },
   "file_extension": ".py",
   "mimetype": "text/x-python",
   "name": "python",
   "nbconvert_exporter": "python",
   "pygments_lexer": "ipython3",
   "version": "3.7.4"
  }
 },
 "nbformat": 4,
 "nbformat_minor": 4
}
