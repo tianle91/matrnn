{
 "cells": [
  {
   "cell_type": "code",
   "execution_count": 1,
   "metadata": {},
   "outputs": [],
   "source": [
    "import numpy as np\n",
    "from math import ceil\n",
    "from typing import List, Tuple\n",
    "import matplotlib.pyplot as plt"
   ]
  },
  {
   "cell_type": "code",
   "execution_count": 2,
   "metadata": {},
   "outputs": [],
   "source": [
    "# generate some arrival times with fixed intervals\n",
    "max_t = 10\n",
    "num_evtypes = 3\n",
    "iats_d = {k: k+1 for k in range(num_evtypes)}"
   ]
  },
  {
   "cell_type": "code",
   "execution_count": 3,
   "metadata": {},
   "outputs": [],
   "source": [
    "# actual data should look something like this\n",
    "arrivaltimes = [\n",
    "    [list(range(d, max_t, v)) for k, v in iats_d.items()]\n",
    "    for d in range(5)\n",
    "    for _ in range(10)\n",
    "]"
   ]
  },
  {
   "cell_type": "code",
   "execution_count": 4,
   "metadata": {},
   "outputs": [
    {
     "data": {
      "text/plain": [
       "[[0, 1, 2, 3, 4, 5, 6, 7, 8, 9], [0, 2, 4, 6, 8], [0, 3, 6, 9]]"
      ]
     },
     "execution_count": 4,
     "metadata": {},
     "output_type": "execute_result"
    }
   ],
   "source": [
    "# arrival times for 0-th replicate\n",
    "arrivaltimes[0]"
   ]
  },
  {
   "cell_type": "code",
   "execution_count": 5,
   "metadata": {},
   "outputs": [
    {
     "data": {
      "text/plain": [
       "50"
      ]
     },
     "execution_count": 5,
     "metadata": {},
     "output_type": "execute_result"
    }
   ],
   "source": [
    "len(arrivaltimes)"
   ]
  },
  {
   "cell_type": "code",
   "execution_count": 6,
   "metadata": {},
   "outputs": [],
   "source": [
    "def get_tsvalues(t: int, arrivaltimes: List[int]) -> Tuple[int, int]:\n",
    "    '''return (time_since_event, time_to_event)'''\n",
    "    tse_candidates = [t-v for v in arrivaltimes if t >= v]\n",
    "    tte_candidates = [v-t for v in arrivaltimes if v > t]\n",
    "    return (\n",
    "        min(tse_candidates) if len(tse_candidates) > 0 else None, \n",
    "        min(tte_candidates) if len(tte_candidates) > 0 else None,\n",
    "    )\n",
    "\n",
    "def get_indicators(tse: int, tte: int) -> Tuple[int, int]:\n",
    "    '''return (tse is None, tte is None)'''\n",
    "    prefirst = tse is None\n",
    "    postlast = tte is None\n",
    "    return prefirst, postlast"
   ]
  },
  {
   "cell_type": "code",
   "execution_count": 7,
   "metadata": {},
   "outputs": [
    {
     "data": {
      "image/png": "[encoded data removed]",
      "text/plain": [
       "<Figure size 432x288 with 1 Axes>"
      ]
     },
     "metadata": {
      "needs_background": "light"
     },
     "output_type": "display_data"
    }
   ],
   "source": [
    "# demo of tse, tte\n",
    "arrt = arrivaltimes[0][2]\n",
    "tsvalues = [get_tsvalues(t, arrt) for t in range(max_t)]\n",
    "tse_l, tte_l = zip(*tsvalues)\n",
    "\n",
    "plt.plot(tse_l, label='tse')\n",
    "plt.plot(tte_l, label='tte')\n",
    "for t in arrt:\n",
    "    plt.axvline(t, ls=':', color='red')\n",
    "\n",
    "plt.legend()\n",
    "plt.show()"
   ]
  },
  {
   "cell_type": "code",
   "execution_count": 8,
   "metadata": {},
   "outputs": [],
   "source": [
    "import torch\n",
    "import torch.nn as nn\n",
    "import torch.nn.functional as F\n",
    "import torch.optim as optim"
   ]
  },
  {
   "cell_type": "code",
   "execution_count": 9,
   "metadata": {},
   "outputs": [],
   "source": [
    "def get_input_t(t: int, arrivaltimes: list, training: bool = False) -> list:\n",
    "    '''return nested list of shape (num_obs, num_evtypes, [tse, tte, prefirst, postlast]) \n",
    "    representing time series values at each time t for all observations and event types'''\n",
    "    # len(input_t) == num_obs\n",
    "    input_t = []\n",
    "    for arrt_obs in arrivaltimes:\n",
    "        # len(input_type) == num_evtypes\n",
    "        input_type = []\n",
    "        for arrt_type in arrt_obs:\n",
    "            tse, tte = get_tsvalues(t, arrt_type)\n",
    "            prefirst, postlast = get_indicators(tse, tte)\n",
    "            resl = [\n",
    "                # tse, tte, prefirst, postlast\n",
    "                -1 if prefirst else tse, \n",
    "                -1 if postlast else tte,\n",
    "                1 if prefirst else 0,\n",
    "                1 if postlast else 0,\n",
    "            ] if not training else [\n",
    "                # tse, prefirst\n",
    "                -1 if prefirst else tse, \n",
    "                1 if prefirst else 0,\n",
    "            ]\n",
    "            input_type.append(resl)\n",
    "        input_t.append(input_type)\n",
    "    return input_t"
   ]
  },
  {
   "cell_type": "code",
   "execution_count": 10,
   "metadata": {},
   "outputs": [
    {
     "name": "stdout",
     "output_type": "stream",
     "text": [
      "num_obs: 50, num_evtypes: 3, (tse, tte, prefirst, postlast): 4\n",
      "t: 0, shape: (50, 3, 4), input_t[0][2]: [0, 3, 0, 0]\n",
      "t: 1, shape: (50, 3, 4), input_t[0][2]: [1, 2, 0, 0]\n",
      "t: 2, shape: (50, 3, 4), input_t[0][2]: [2, 1, 0, 0]\n",
      "t: 3, shape: (50, 3, 4), input_t[0][2]: [0, 3, 0, 0]\n",
      "t: 4, shape: (50, 3, 4), input_t[0][2]: [1, 2, 0, 0]\n",
      "t: 5, shape: (50, 3, 4), input_t[0][2]: [2, 1, 0, 0]\n",
      "t: 6, shape: (50, 3, 4), input_t[0][2]: [0, 3, 0, 0]\n",
      "t: 7, shape: (50, 3, 4), input_t[0][2]: [1, 2, 0, 0]\n",
      "t: 8, shape: (50, 3, 4), input_t[0][2]: [2, 1, 0, 0]\n",
      "t: 9, shape: (50, 3, 4), input_t[0][2]: [0, -1, 0, 1]\n"
     ]
    }
   ],
   "source": [
    "num_obs = len(arrivaltimes)\n",
    "\n",
    "print (\n",
    "    'num_obs: {}, num_evtypes: {}, (tse, tte, prefirst, postlast): {}'\\\n",
    "    .format(num_obs, num_evtypes, 4)\n",
    ")\n",
    "\n",
    "for t in range(max_t):\n",
    "    input_t = get_input_t(t, arrivaltimes)\n",
    "    print ('t: {}, shape: {}, input_t[0][2]: {}'.format(t, np.array(input_t).shape, input_t[0][2]))"
   ]
  },
  {
   "cell_type": "code",
   "execution_count": 11,
   "metadata": {},
   "outputs": [
    {
     "name": "stdout",
     "output_type": "stream",
     "text": [
      "training...\n",
      "num_obs: 50, num_evtypes: 3, (tse, prefirst): 2\n",
      "t: 0, shape: (50, 3, 2), input_t[0][2]: [0, 0]\n",
      "t: 1, shape: (50, 3, 2), input_t[0][2]: [1, 0]\n",
      "t: 2, shape: (50, 3, 2), input_t[0][2]: [2, 0]\n",
      "t: 3, shape: (50, 3, 2), input_t[0][2]: [0, 0]\n",
      "t: 4, shape: (50, 3, 2), input_t[0][2]: [1, 0]\n",
      "t: 5, shape: (50, 3, 2), input_t[0][2]: [2, 0]\n",
      "t: 6, shape: (50, 3, 2), input_t[0][2]: [0, 0]\n",
      "t: 7, shape: (50, 3, 2), input_t[0][2]: [1, 0]\n",
      "t: 8, shape: (50, 3, 2), input_t[0][2]: [2, 0]\n",
      "t: 9, shape: (50, 3, 2), input_t[0][2]: [0, 0]\n"
     ]
    }
   ],
   "source": [
    "print (\n",
    "    'training...\\nnum_obs: {}, num_evtypes: {}, (tse, prefirst): {}'\\\n",
    "    .format(num_obs, num_evtypes, 2)\n",
    ")\n",
    "\n",
    "for t in range(max_t):\n",
    "    \n",
    "    input_t = get_input_t(t, arrivaltimes, training=True)\n",
    "    print ('t: {}, shape: {}, input_t[0][2]: {}'.format(t, np.array(input_t).shape, input_t[0][2]))"
   ]
  },
  {
   "cell_type": "code",
   "execution_count": 12,
   "metadata": {},
   "outputs": [],
   "source": [
    "class LSTMTSSparse(nn.Module):\n",
    "    \n",
    "    def __init__(self, num_evtypes, max_t):\n",
    "        super(LSTMTSSparse, self).__init__()\n",
    "        self.num_evtypes = num_evtypes\n",
    "        self.max_t = max_t\n",
    "        # input_size – The number of expected features in the input x\n",
    "        # hidden_size – The number of features in the hidden state h\n",
    "        # num_layers – Number of recurrent layers. Default: 1\n",
    "        # bidirectional – If True, becomes a bidirectional LSTM. Default: False\n",
    "        self.lstm = nn.LSTM(\n",
    "            input_size=num_evtypes*2, \n",
    "            hidden_size=num_evtypes, \n",
    "            num_layers=1, \n",
    "            bidirectional=False\n",
    "        )\n",
    "        \n",
    "    def forward(self, arrivaltimes: List[List[int]]):\n",
    "        num_obs = len(arrivaltimes)\n",
    "        # (seq_len, batch, input_size)\n",
    "        hidden = (\n",
    "            torch.randn(1, num_obs, self.num_evtypes), \n",
    "            torch.randn(1, num_obs, self.num_evtypes),\n",
    "        )\n",
    "        output_l = []\n",
    "        for t in range(self.max_t):\n",
    "            input_t = torch.Tensor(get_input_t(t, arrivaltimes, training=True)).view(1, num_obs, -1)\n",
    "            output_t, hidden = self.lstm(input_t, hidden)\n",
    "            output_l.append(output_t)\n",
    "        return F.softplus(torch.cat(output_l, dim=0))"
   ]
  },
  {
   "cell_type": "code",
   "execution_count": 13,
   "metadata": {},
   "outputs": [],
   "source": [
    "def get_target(arrivaltimes):\n",
    "    return torch.cat([\n",
    "        torch.Tensor(get_input_t(t, arrivaltimes, training=False))[\n",
    "            ...,[1]\n",
    "        ].view(1, len(arrivaltimes), -1) \n",
    "        for t in range(max_t)\n",
    "    ])"
   ]
  },
  {
   "cell_type": "code",
   "execution_count": 23,
   "metadata": {},
   "outputs": [],
   "source": [
    "loss_function = nn.MSELoss()\n",
    "model = LSTMTSSparse(num_evtypes, max_t)\n",
    "optimizer = optim.SGD(model.parameters(), lr=1)"
   ]
  },
  {
   "cell_type": "code",
   "execution_count": 24,
   "metadata": {},
   "outputs": [
    {
     "name": "stdout",
     "output_type": "stream",
     "text": [
      "tensor(1.6407)\n"
     ]
    }
   ],
   "source": [
    "with torch.no_grad():\n",
    "    print (loss_function(model(arrivaltimes), get_target(arrivaltimes)))"
   ]
  },
  {
   "cell_type": "code",
   "execution_count": 25,
   "metadata": {
    "scrolled": true
   },
   "outputs": [
    {
     "name": "stdout",
     "output_type": "stream",
     "text": [
      "epoch: 0 loss: 1.6550323963165283\n",
      "epoch: 1 loss: 1.6429648399353027\n",
      "epoch: 2 loss: 1.6395766735076904\n",
      "epoch: 3 loss: 1.6358648538589478\n",
      "epoch: 4 loss: 1.628933310508728\n",
      "epoch: 5 loss: 1.6235644817352295\n",
      "epoch: 6 loss: 1.6174451112747192\n",
      "epoch: 7 loss: 1.6123288869857788\n",
      "epoch: 8 loss: 1.6067380905151367\n",
      "epoch: 9 loss: 1.6108834743499756\n",
      "epoch: 10 loss: 1.599359154701233\n",
      "epoch: 11 loss: 1.5856541395187378\n",
      "epoch: 12 loss: 1.5746790170669556\n",
      "epoch: 13 loss: 1.575774073600769\n",
      "epoch: 14 loss: 1.5623314380645752\n",
      "epoch: 15 loss: 1.5580097436904907\n",
      "epoch: 16 loss: 1.5527857542037964\n",
      "epoch: 17 loss: 1.5479788780212402\n",
      "epoch: 18 loss: 1.5383421182632446\n",
      "epoch: 19 loss: 1.5247429609298706\n",
      "epoch: 20 loss: 1.517893671989441\n",
      "epoch: 21 loss: 1.514468789100647\n",
      "epoch: 22 loss: 1.500317096710205\n",
      "epoch: 23 loss: 1.499749779701233\n",
      "epoch: 24 loss: 1.4850258827209473\n",
      "epoch: 25 loss: 1.4818450212478638\n",
      "epoch: 26 loss: 1.481978178024292\n",
      "epoch: 27 loss: 1.4615224599838257\n",
      "epoch: 28 loss: 1.4562265872955322\n",
      "epoch: 29 loss: 1.4547666311264038\n",
      "epoch: 30 loss: 1.4610414505004883\n",
      "epoch: 31 loss: 1.4376413822174072\n",
      "epoch: 32 loss: 1.432521939277649\n",
      "epoch: 33 loss: 1.4156880378723145\n",
      "epoch: 34 loss: 1.428256869316101\n",
      "epoch: 35 loss: 1.430842638015747\n",
      "epoch: 36 loss: 1.4174453020095825\n",
      "epoch: 37 loss: 1.410133957862854\n",
      "epoch: 38 loss: 1.407612681388855\n",
      "epoch: 39 loss: 1.394720435142517\n",
      "epoch: 40 loss: 1.4109210968017578\n",
      "epoch: 41 loss: 1.4124594926834106\n",
      "epoch: 42 loss: 1.3900967836380005\n",
      "epoch: 43 loss: 1.4056761264801025\n",
      "epoch: 44 loss: 1.3784681558609009\n",
      "epoch: 45 loss: 1.3838132619857788\n",
      "epoch: 46 loss: 1.3792507648468018\n",
      "epoch: 47 loss: 1.3773977756500244\n",
      "epoch: 48 loss: 1.375120759010315\n",
      "epoch: 49 loss: 1.3743382692337036\n",
      "epoch: 50 loss: 1.3606230020523071\n",
      "epoch: 51 loss: 1.3624106645584106\n",
      "epoch: 52 loss: 1.361760139465332\n",
      "epoch: 53 loss: 1.3560419082641602\n",
      "epoch: 54 loss: 1.3678303956985474\n",
      "epoch: 55 loss: 1.3653688430786133\n",
      "epoch: 56 loss: 1.3620284795761108\n",
      "epoch: 57 loss: 1.3633192777633667\n",
      "epoch: 58 loss: 1.3520337343215942\n",
      "epoch: 59 loss: 1.3424360752105713\n",
      "epoch: 60 loss: 1.3360950946807861\n",
      "epoch: 61 loss: 1.3617637157440186\n",
      "epoch: 62 loss: 1.3494209051132202\n",
      "epoch: 63 loss: 1.3525843620300293\n",
      "epoch: 64 loss: 1.339412808418274\n",
      "epoch: 65 loss: 1.3439000844955444\n",
      "epoch: 66 loss: 1.3455106019973755\n",
      "epoch: 67 loss: 1.3407175540924072\n",
      "epoch: 68 loss: 1.3490076065063477\n",
      "epoch: 69 loss: 1.3324456214904785\n",
      "epoch: 70 loss: 1.3341457843780518\n",
      "epoch: 71 loss: 1.3415712118148804\n",
      "epoch: 72 loss: 1.3348782062530518\n",
      "epoch: 73 loss: 1.3320214748382568\n",
      "epoch: 74 loss: 1.3300631046295166\n",
      "epoch: 75 loss: 1.3270882368087769\n",
      "epoch: 76 loss: 1.3212487697601318\n",
      "epoch: 77 loss: 1.3366254568099976\n",
      "epoch: 78 loss: 1.3167763948440552\n",
      "epoch: 79 loss: 1.347357153892517\n",
      "epoch: 80 loss: 1.3312861919403076\n",
      "epoch: 81 loss: 1.3267689943313599\n",
      "epoch: 82 loss: 1.3260362148284912\n",
      "epoch: 83 loss: 1.322184443473816\n",
      "epoch: 84 loss: 1.319118857383728\n",
      "epoch: 85 loss: 1.3272160291671753\n",
      "epoch: 86 loss: 1.3245153427124023\n",
      "epoch: 87 loss: 1.319769024848938\n",
      "epoch: 88 loss: 1.3149774074554443\n",
      "epoch: 89 loss: 1.3228328227996826\n",
      "epoch: 90 loss: 1.3196487426757812\n",
      "epoch: 91 loss: 1.3152697086334229\n",
      "epoch: 92 loss: 1.3281300067901611\n",
      "epoch: 93 loss: 1.31346595287323\n",
      "epoch: 94 loss: 1.31492018699646\n",
      "epoch: 95 loss: 1.3117061853408813\n",
      "epoch: 96 loss: 1.3119596242904663\n",
      "epoch: 97 loss: 1.3135645389556885\n",
      "epoch: 98 loss: 1.3121371269226074\n",
      "epoch: 99 loss: 1.3017902374267578\n"
     ]
    }
   ],
   "source": [
    "for epoch in range(100):\n",
    "    model.zero_grad()\n",
    "    loss = loss_function(model(arrivaltimes), get_target(arrivaltimes))\n",
    "    loss.backward()\n",
    "    optimizer.step()\n",
    "    with torch.no_grad():\n",
    "        print ('epoch: {} loss: {}'.format(\n",
    "            epoch, loss_function(model(arrivaltimes), get_target(arrivaltimes)).item()\n",
    "        ))"
   ]
  },
  {
   "cell_type": "code",
   "execution_count": 26,
   "metadata": {},
   "outputs": [
    {
     "name": "stdout",
     "output_type": "stream",
     "text": [
      "tensor(1.3131)\n"
     ]
    }
   ],
   "source": [
    "with torch.no_grad():\n",
    "    print (loss_function(model(arrivaltimes), get_target(arrivaltimes)))"
   ]
  },
  {
   "cell_type": "code",
   "execution_count": 27,
   "metadata": {},
   "outputs": [],
   "source": [
    "import matplotlib.pyplot as plt"
   ]
  },
  {
   "cell_type": "code",
   "execution_count": 28,
   "metadata": {},
   "outputs": [],
   "source": [
    "with torch.no_grad():\n",
    "    pred = model(arrivaltimes).numpy()"
   ]
  },
  {
   "cell_type": "code",
   "execution_count": 29,
   "metadata": {},
   "outputs": [
    {
     "data": {
      "text/plain": [
       "(10, 50, 3)"
      ]
     },
     "execution_count": 29,
     "metadata": {},
     "output_type": "execute_result"
    }
   ],
   "source": [
    "pred.shape"
   ]
  },
  {
   "cell_type": "code",
   "execution_count": 33,
   "metadata": {},
   "outputs": [
    {
     "data": {
      "image/png": "[encoded data removed]",
      "text/plain": [
       "<Figure size 432x288 with 1 Axes>"
      ]
     },
     "metadata": {
      "needs_background": "light"
     },
     "output_type": "display_data"
    }
   ],
   "source": [
    "plt.plot(pred[:, 0, 2], label='pred')\n",
    "plt.plot(get_target(arrivaltimes).numpy()[:, 0, 2], label='target')\n",
    "plt.legend()\n",
    "plt.show()"
   ]
  }
 ],
 "metadata": {
  "kernelspec": {
   "display_name": "Python 3",
   "language": "python",
   "name": "python3"
  },
  "language_info": {
   "codemirror_mode": {
    "name": "ipython",
    "version": 3
   },
   "file_extension": ".py",
   "mimetype": "text/x-python",
   "name": "python",
   "nbconvert_exporter": "python",
   "pygments_lexer": "ipython3",
   "version": "3.7.4"
  }
 },
 "nbformat": 4,
 "nbformat_minor": 4
}
